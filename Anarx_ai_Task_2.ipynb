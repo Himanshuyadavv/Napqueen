{
  "nbformat": 4,
  "nbformat_minor": 0,
  "metadata": {
    "colab": {
      "provenance": []
    },
    "kernelspec": {
      "name": "python3",
      "display_name": "Python 3"
    },
    "language_info": {
      "name": "python"
    }
  },
  "cells": [
    {
      "cell_type": "markdown",
      "source": [
        "## Task_2\n"
      ],
      "metadata": {
        "id": "1czrrl2Dao0X"
      }
    },
    {
      "cell_type": "markdown",
      "source": [
        "Install Required Libraries"
      ],
      "metadata": {
        "id": "FS4excAbkuuB"
      }
    },
    {
      "cell_type": "code",
      "source": [
        "import pandas as pd\n",
        "from sklearn.preprocessing import OneHotEncoder\n",
        "from sklearn.linear_model import LinearRegression\n",
        "from sklearn.metrics import mean_absolute_error, mean_squared_error\n",
        "import numpy as np"
      ],
      "metadata": {
        "id": "vDhRS9X6ksfq"
      },
      "execution_count": 9,
      "outputs": []
    },
    {
      "cell_type": "code",
      "execution_count": 10,
      "metadata": {
        "colab": {
          "base_uri": "https://localhost:8080/"
        },
        "id": "TNA4yg6Sank8",
        "outputId": "3bb992f4-135e-4b60-aa15-7b4d86bac681"
      },
      "outputs": [
        {
          "output_type": "stream",
          "name": "stderr",
          "text": [
            "<ipython-input-10-355c83606e64>:16: SettingWithCopyWarning: \n",
            "A value is trying to be set on a copy of a slice from a DataFrame.\n",
            "Try using .loc[row_indexer,col_indexer] = value instead\n",
            "\n",
            "See the caveats in the documentation: https://pandas.pydata.org/pandas-docs/stable/user_guide/indexing.html#returning-a-view-versus-a-copy\n",
            "  train_features['date'] = pd.to_datetime(train_features['date'])\n",
            "<ipython-input-10-355c83606e64>:17: SettingWithCopyWarning: \n",
            "A value is trying to be set on a copy of a slice from a DataFrame.\n",
            "Try using .loc[row_indexer,col_indexer] = value instead\n",
            "\n",
            "See the caveats in the documentation: https://pandas.pydata.org/pandas-docs/stable/user_guide/indexing.html#returning-a-view-versus-a-copy\n",
            "  train_features['day_of_week'] = train_features['date'].dt.dayofweek\n",
            "<ipython-input-10-355c83606e64>:18: SettingWithCopyWarning: \n",
            "A value is trying to be set on a copy of a slice from a DataFrame.\n",
            "Try using .loc[row_indexer,col_indexer] = value instead\n",
            "\n",
            "See the caveats in the documentation: https://pandas.pydata.org/pandas-docs/stable/user_guide/indexing.html#returning-a-view-versus-a-copy\n",
            "  train_features['month'] = train_features['date'].dt.month\n",
            "<ipython-input-10-355c83606e64>:19: SettingWithCopyWarning: \n",
            "A value is trying to be set on a copy of a slice from a DataFrame\n",
            "\n",
            "See the caveats in the documentation: https://pandas.pydata.org/pandas-docs/stable/user_guide/indexing.html#returning-a-view-versus-a-copy\n",
            "  train_features.drop(columns=['date'], inplace=True)\n",
            "<ipython-input-10-355c83606e64>:21: SettingWithCopyWarning: \n",
            "A value is trying to be set on a copy of a slice from a DataFrame.\n",
            "Try using .loc[row_indexer,col_indexer] = value instead\n",
            "\n",
            "See the caveats in the documentation: https://pandas.pydata.org/pandas-docs/stable/user_guide/indexing.html#returning-a-view-versus-a-copy\n",
            "  test_features['date'] = pd.to_datetime(test_features['date'])\n",
            "<ipython-input-10-355c83606e64>:22: SettingWithCopyWarning: \n",
            "A value is trying to be set on a copy of a slice from a DataFrame.\n",
            "Try using .loc[row_indexer,col_indexer] = value instead\n",
            "\n",
            "See the caveats in the documentation: https://pandas.pydata.org/pandas-docs/stable/user_guide/indexing.html#returning-a-view-versus-a-copy\n",
            "  test_features['day_of_week'] = test_features['date'].dt.dayofweek\n",
            "<ipython-input-10-355c83606e64>:23: SettingWithCopyWarning: \n",
            "A value is trying to be set on a copy of a slice from a DataFrame.\n",
            "Try using .loc[row_indexer,col_indexer] = value instead\n",
            "\n",
            "See the caveats in the documentation: https://pandas.pydata.org/pandas-docs/stable/user_guide/indexing.html#returning-a-view-versus-a-copy\n",
            "  test_features['month'] = test_features['date'].dt.month\n",
            "<ipython-input-10-355c83606e64>:24: SettingWithCopyWarning: \n",
            "A value is trying to be set on a copy of a slice from a DataFrame\n",
            "\n",
            "See the caveats in the documentation: https://pandas.pydata.org/pandas-docs/stable/user_guide/indexing.html#returning-a-view-versus-a-copy\n",
            "  test_features.drop(columns=['date'], inplace=True)\n",
            "/usr/local/lib/python3.10/dist-packages/sklearn/preprocessing/_encoders.py:975: FutureWarning: `sparse` was renamed to `sparse_output` in version 1.2 and will be removed in 1.4. `sparse_output` is ignored unless you leave `sparse` to its default value.\n",
            "  warnings.warn(\n"
          ]
        },
        {
          "output_type": "stream",
          "name": "stdout",
          "text": [
            "Shape of train_features: (83592, 217)\n",
            "Shape of train_target: (83592,)\n",
            "Predictions saved to path_to_save_predictions.csv\n"
          ]
        }
      ],
      "source": [
        "# Load the training and testing datasets\n",
        "train_data = pd.read_csv('train.csv')\n",
        "test_data = pd.read_csv('test.csv')\n",
        "\n",
        "# Remove rows with missing target variable in the training data\n",
        "train_data_cleaned = train_data.dropna(subset=['units'])\n",
        "\n",
        "# Extract features and target variable for training (excluding ad_spend)\n",
        "train_features = train_data_cleaned[['Item Id', 'date']]\n",
        "train_target = train_data_cleaned['units']\n",
        "\n",
        "# Extract features from the test data\n",
        "test_features = test_data[['Item Id', 'date']]\n",
        "\n",
        "# Feature Engineering: Extract date-related features\n",
        "train_features['date'] = pd.to_datetime(train_features['date'])\n",
        "train_features['day_of_week'] = train_features['date'].dt.dayofweek\n",
        "train_features['month'] = train_features['date'].dt.month\n",
        "train_features.drop(columns=['date'], inplace=True)\n",
        "\n",
        "test_features['date'] = pd.to_datetime(test_features['date'])\n",
        "test_features['day_of_week'] = test_features['date'].dt.dayofweek\n",
        "test_features['month'] = test_features['date'].dt.month\n",
        "test_features.drop(columns=['date'], inplace=True)\n",
        "\n",
        "# Convert categorical variables to numerical using OneHotEncoding\n",
        "encoder = OneHotEncoder(handle_unknown='ignore', sparse=False)\n",
        "encoded_train_item_id = encoder.fit_transform(train_features[['Item Id']])\n",
        "encoded_test_item_id = encoder.transform(test_features[['Item Id']])\n",
        "\n",
        "encoded_train_item_id_df = pd.DataFrame(encoded_train_item_id, columns=encoder.get_feature_names_out(['Item Id']))\n",
        "encoded_test_item_id_df = pd.DataFrame(encoded_test_item_id, columns=encoder.get_feature_names_out(['Item Id']))\n",
        "\n",
        "# Concatenate the encoded columns with the original data\n",
        "train_features = pd.concat([train_features.reset_index(drop=True).drop(columns=['Item Id']), encoded_train_item_id_df], axis=1)\n",
        "test_features = pd.concat([test_features.reset_index(drop=True).drop(columns=['Item Id']), encoded_test_item_id_df], axis=1)\n",
        "\n",
        "# Handle potential NaN values after one-hot encoding - Impute missing values\n",
        "train_features.fillna(0, inplace=True)\n",
        "test_features.fillna(0, inplace=True)\n",
        "\n",
        "# Check shapes to verify consistency\n",
        "print(\"Shape of train_features:\", train_features.shape)\n",
        "print(\"Shape of train_target:\", train_target.shape)\n",
        "\n",
        "# Train a simple linear regression model\n",
        "model = LinearRegression()\n",
        "model.fit(train_features, train_target)\n",
        "\n",
        "# Predict on the test set\n",
        "test_predictions = model.predict(test_features)\n",
        "\n",
        "# If you have actual units in the test set, evaluate the model\n",
        "if 'units' in test_data.columns:\n",
        "    test_actual = test_data['units']\n",
        "    mae = mean_absolute_error(test_actual, test_predictions)\n",
        "    rmse = np.sqrt(mean_squared_error(test_actual, test_predictions))\n",
        "    mse = mean_squared_error(test_actual, test_predictions)  # Calculate MSE\n",
        "    print(\"MAE:\", mae)\n",
        "    print(\"RMSE:\", rmse)\n",
        "    print(\"MSE:\", mse)  # Print MSE value\n",
        "else:\n",
        "    test_data['predicted_units'] = test_predictions\n",
        "    test_data.to_csv('path_to_save_predictions.csv', index=False)\n",
        "    print(\"Predictions saved to path_to_save_predictions.csv\")\n"
      ]
    }
  ]
}